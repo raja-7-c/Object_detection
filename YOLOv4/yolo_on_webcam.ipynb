{
 "cells": [
  {
   "cell_type": "code",
   "execution_count": 1,
   "metadata": {
    "scrolled": true
   },
   "outputs": [
    {
     "name": "stdout",
     "output_type": "stream",
     "text": [
      "['person', 'bicycle', 'car', 'motorbike', 'aeroplane', 'bus', 'train', 'truck', 'boat', 'traffic light', 'fire hydrant', 'stop sign', 'parking meter', 'bench', 'bird', 'cat', 'dog', 'horse', 'sheep', 'cow', 'elephant', 'bear', 'zebra', 'giraffe', 'backpack', 'umbrella', 'handbag', 'tie', 'suitcase', 'frisbee', 'skis', 'snowboard', 'sports ball', 'kite', 'baseball bat', 'baseball glove', 'skateboard', 'surfboard', 'tennis racket', 'bottle', 'wine glass', 'cup', 'fork', 'knife', 'spoon', 'bowl', 'banana', 'apple', 'sandwich', 'orange', 'broccoli', 'carrot', 'hot dog', 'pizza', 'donut', 'cake', 'chair', 'sofa', 'pottedplant', 'bed', 'diningtable', 'toilet', 'tvmonitor', 'laptop', 'mouse', 'remote', 'keyboard', 'cell phone', 'microwave', 'oven', 'toaster', 'sink', 'refrigerator', 'book', 'clock', 'vase', 'scissors', 'teddy bear', 'hair drier', 'toothbrush']\n",
      "80\n"
     ]
    }
   ],
   "source": [
    "import cv2\n",
    "import numpy as np\n",
    "\n",
    "cap = cv2.VideoCapture(0)\n",
    "whT = 320\n",
    "confThreshold = 0.5\n",
    "nmsThreshold = 0.3\n",
    "\n",
    "classesFile = 'coco.names'\n",
    "classNames = []\n",
    "with open(classesFile,'rt') as f:\n",
    "    classNames = f.read().rstrip('\\n').split('\\n')\n",
    "print(classNames)\n",
    "print(len(classNames))\n",
    "\n",
    "modelConfiguration = 'yolov4.cfg'\n",
    "modelWeights = 'yolov4.weights'\n"
   ]
  },
  {
   "cell_type": "code",
   "execution_count": 2,
   "metadata": {},
   "outputs": [],
   "source": [
    "\n",
    "modelConfiguration = 'yolov4.cfg'\n",
    "modelWeights = 'yolov4.weights'\n",
    "\n",
    "\n",
    "net = cv2.dnn.readNetFromDarknet(modelConfiguration, modelWeights)\n",
    "net.setPreferableBackend(cv2.dnn.DNN_BACKEND_DEFAULT)\n",
    "net.setPreferableTarget(cv2.dnn.DNN_TARGET_CPU)\n"
   ]
  },
  {
   "cell_type": "code",
   "execution_count": 1,
   "metadata": {},
   "outputs": [],
   "source": [
    "def findObjects(outputs,img):\n",
    "    hT, wT, cT = img.shape\n",
    "    bbox = []\n",
    "    classIds = []\n",
    "    confs = []\n",
    "\n",
    "    for output in outputs:\n",
    "        for det in output:\n",
    "            scores = det[5:]\n",
    "            classId = np.argmax(scores)\n",
    "            confidence = scores[classId]\n",
    "            if confidence > confThreshold:\n",
    "                w,h = int(det[2]* wT), int(det[3]*hT)\n",
    "                x,y = int((det[0]*wT)-w/2), int((det[1]*hT)-h/2)\n",
    "                bbox.append([x,y,w,h])\n",
    "                classIds.append(classId)\n",
    "                confs.append(float(confidence))\n",
    "\n",
    "\n",
    "    print(len(bbox))\n",
    "    indices = cv2.dnn.NMSBoxes(bbox, confs,confThreshold,nmsThreshold)\n",
    "\n",
    "    for i in indices:\n",
    "        i = i[0]\n",
    "        box = bbox[i]\n",
    "        x,y,w,h = box[0], box[1], box[2], box[3]\n",
    "        cv2.rectangle(img, (x,y),(x+w,y+h),(255,0,255),2)\n",
    "        cv2.putText(img,f'{classNames[classIds[i]].upper()} {int(confs[i]*100)}%',\n",
    "                    (x,y-10), cv2.FONT_HERSHEY_SIMPLEX, 0.6,(255,0,255),2)"
   ]
  },
  {
   "cell_type": "code",
   "execution_count": null,
   "metadata": {},
   "outputs": [],
   "source": [
    "while True:\n",
    "    success, img = cap.read()\n",
    "\n",
    "    blob = cv2.dnn.blobFromImage(img, 1/255,(whT,whT),[0,0,0],crop=False)\n",
    "    net.setInput(blob)\n",
    "\n",
    "    layerNames = net.getLayerNames()\n",
    "    print(layerNames)\n",
    "    outputNames = [layerNames[i[0]-1] for i in net.getUnconnectedOutLayers()]\n",
    "    print(outputNames)\n",
    "    print(net.getUnconnectedOutLayers())\n",
    "\n",
    "    outputs = net.forward(outputNames)\n",
    "    print(len(outputs))\n",
    "    print(type(outputs[0]))\n",
    "    print(outputs[0].shape) \n",
    "    print(outputs[1].shape) \n",
    "    print(outputs[2].shape) \n",
    "    print(outputs[0][0])\n",
    "\n",
    "    findObjects(outputs,img)\n",
    "\n",
    "    cv2.imshow('Image', img)\n",
    "    cv2.waitKey(1)"
   ]
  },
  {
   "cell_type": "code",
   "execution_count": null,
   "metadata": {},
   "outputs": [],
   "source": []
  },
  {
   "cell_type": "code",
   "execution_count": null,
   "metadata": {},
   "outputs": [],
   "source": []
  }
 ],
 "metadata": {
  "kernelspec": {
   "display_name": "Python 3",
   "language": "python",
   "name": "python3"
  },
  "language_info": {
   "codemirror_mode": {
    "name": "ipython",
    "version": 3
   },
   "file_extension": ".py",
   "mimetype": "text/x-python",
   "name": "python",
   "nbconvert_exporter": "python",
   "pygments_lexer": "ipython3",
   "version": "3.7.7"
  }
 },
 "nbformat": 4,
 "nbformat_minor": 4
}
